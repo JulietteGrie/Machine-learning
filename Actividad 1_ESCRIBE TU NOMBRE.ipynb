{
 "cells": [
  {
   "cell_type": "markdown",
   "metadata": {},
   "source": [
    "<img src=\"Header Curso 2.png\" width=\"921\" height=\"89\" align=\"center\"/>\n",
    "\n",
    "<h1><center>Modelos predictivos con Machine Learning - AnáhuacX</center></h1>\n",
    "<h2><center>Actividad 1: Predicción de costos en el seguro médico</center></h2>\n"
   ]
  },
  {
   "cell_type": "markdown",
   "metadata": {},
   "source": [
    "En el siguiente ejercicio practicarás algunos de los comandos vistos durante la semana y crearás un modelo predictivo. Después de terminar tu practica responderás un formulario donde autoevaluaras tu desarrollo. <strong>Al finalizar deberás subir tu cuaderno en un archivo .zip</strong>. Es muy importante que subas tu cuaderno de la manera en cómo te indicamos.\n",
    "\n",
    "En esta actividad responderás la pregunta: \n",
    "¿Es posible predecir la prima del seguro de pacientes según sus características? Para responderla deberás seguir los pasos a detalle.\n"
   ]
  },
  {
   "cell_type": "markdown",
   "metadata": {},
   "source": [
    "<h3><center>Instrucciones</center></h3>"
   ]
  },
  {
   "cell_type": "markdown",
   "metadata": {},
   "source": [
    "1. Descargar y descomprime la base de datos <a href=\"https://courses.edx.org/asset-v1:AnahuacX+UVA-CP1-1x+2T2020+type@asset+block@insurance_clean.zip\">insurance_clean.zip</a> (El archivo extraído debe de colocarse en la misma carpeta que el este cuaderno). Abre el archivo con el paquete pandas. después imprime en pantalla los primeros 5 registros/filas."
   ]
  },
  {
   "cell_type": "code",
   "execution_count": 187,
   "metadata": {},
   "outputs": [
    {
     "name": "stdout",
     "output_type": "stream",
     "text": [
      "      age    bmi  children    charges\n",
      "1      18  33.77         1  1725.5523\n",
      "2      28  33.00         3  4449.4620\n",
      "4      32  28.88         0  3866.8552\n",
      "5      31  25.74         0  3756.6216\n",
      "6      46  33.44         1  8240.5896\n",
      "...   ...    ...       ...        ...\n",
      "1326   42  32.87         0  7050.0213\n",
      "1327   51  30.03         1  9377.9047\n",
      "1334   18  31.92         0  2205.9808\n",
      "1335   18  36.85         0  1629.8335\n",
      "1336   21  25.80         0  2007.9450\n",
      "\n",
      "[712 rows x 4 columns]\n"
     ]
    }
   ],
   "source": [
    "import pandas as pd\n",
    "\n",
    "df = pd.read_csv('Actividad 1/insurance_clean.csv', index_col = 0)\n",
    "print(df)"
   ]
  },
  {
   "cell_type": "markdown",
   "metadata": {},
   "source": [
    "2. __¿Cuál es el quinto registro del conjunto de datos?__"
   ]
  },
  {
   "cell_type": "code",
   "execution_count": 188,
   "metadata": {},
   "outputs": [
    {
     "data": {
      "text/html": [
       "<div>\n",
       "<style scoped>\n",
       "    .dataframe tbody tr th:only-of-type {\n",
       "        vertical-align: middle;\n",
       "    }\n",
       "\n",
       "    .dataframe tbody tr th {\n",
       "        vertical-align: top;\n",
       "    }\n",
       "\n",
       "    .dataframe thead th {\n",
       "        text-align: right;\n",
       "    }\n",
       "</style>\n",
       "<table border=\"1\" class=\"dataframe\">\n",
       "  <thead>\n",
       "    <tr style=\"text-align: right;\">\n",
       "      <th></th>\n",
       "      <th>age</th>\n",
       "      <th>bmi</th>\n",
       "      <th>children</th>\n",
       "      <th>charges</th>\n",
       "    </tr>\n",
       "  </thead>\n",
       "  <tbody>\n",
       "    <tr>\n",
       "      <th>5</th>\n",
       "      <td>31</td>\n",
       "      <td>25.74</td>\n",
       "      <td>0</td>\n",
       "      <td>3756.6216</td>\n",
       "    </tr>\n",
       "  </tbody>\n",
       "</table>\n",
       "</div>"
      ],
      "text/plain": [
       "   age    bmi  children    charges\n",
       "5   31  25.74         0  3756.6216"
      ]
     },
     "execution_count": 188,
     "metadata": {},
     "output_type": "execute_result"
    }
   ],
   "source": [
    "df.loc[[5]]"
   ]
  },
  {
   "cell_type": "markdown",
   "metadata": {},
   "source": [
    "Imprime los  últimos 5 registros del DataFrame."
   ]
  },
  {
   "cell_type": "code",
   "execution_count": 189,
   "metadata": {},
   "outputs": [
    {
     "data": {
      "text/html": [
       "<div>\n",
       "<style scoped>\n",
       "    .dataframe tbody tr th:only-of-type {\n",
       "        vertical-align: middle;\n",
       "    }\n",
       "\n",
       "    .dataframe tbody tr th {\n",
       "        vertical-align: top;\n",
       "    }\n",
       "\n",
       "    .dataframe thead th {\n",
       "        text-align: right;\n",
       "    }\n",
       "</style>\n",
       "<table border=\"1\" class=\"dataframe\">\n",
       "  <thead>\n",
       "    <tr style=\"text-align: right;\">\n",
       "      <th></th>\n",
       "      <th>age</th>\n",
       "      <th>bmi</th>\n",
       "      <th>children</th>\n",
       "      <th>charges</th>\n",
       "    </tr>\n",
       "  </thead>\n",
       "  <tbody>\n",
       "    <tr>\n",
       "      <th>1326</th>\n",
       "      <td>42</td>\n",
       "      <td>32.87</td>\n",
       "      <td>0</td>\n",
       "      <td>7050.0213</td>\n",
       "    </tr>\n",
       "    <tr>\n",
       "      <th>1327</th>\n",
       "      <td>51</td>\n",
       "      <td>30.03</td>\n",
       "      <td>1</td>\n",
       "      <td>9377.9047</td>\n",
       "    </tr>\n",
       "    <tr>\n",
       "      <th>1334</th>\n",
       "      <td>18</td>\n",
       "      <td>31.92</td>\n",
       "      <td>0</td>\n",
       "      <td>2205.9808</td>\n",
       "    </tr>\n",
       "    <tr>\n",
       "      <th>1335</th>\n",
       "      <td>18</td>\n",
       "      <td>36.85</td>\n",
       "      <td>0</td>\n",
       "      <td>1629.8335</td>\n",
       "    </tr>\n",
       "    <tr>\n",
       "      <th>1336</th>\n",
       "      <td>21</td>\n",
       "      <td>25.80</td>\n",
       "      <td>0</td>\n",
       "      <td>2007.9450</td>\n",
       "    </tr>\n",
       "  </tbody>\n",
       "</table>\n",
       "</div>"
      ],
      "text/plain": [
       "      age    bmi  children    charges\n",
       "1326   42  32.87         0  7050.0213\n",
       "1327   51  30.03         1  9377.9047\n",
       "1334   18  31.92         0  2205.9808\n",
       "1335   18  36.85         0  1629.8335\n",
       "1336   21  25.80         0  2007.9450"
      ]
     },
     "execution_count": 189,
     "metadata": {},
     "output_type": "execute_result"
    }
   ],
   "source": [
    "df.iloc[-5:]"
   ]
  },
  {
   "cell_type": "markdown",
   "metadata": {},
   "source": [
    "4. __¿Cuál es el último registro del conjunto de datos?__"
   ]
  },
  {
   "cell_type": "code",
   "execution_count": 190,
   "metadata": {},
   "outputs": [
    {
     "data": {
      "text/html": [
       "<div>\n",
       "<style scoped>\n",
       "    .dataframe tbody tr th:only-of-type {\n",
       "        vertical-align: middle;\n",
       "    }\n",
       "\n",
       "    .dataframe tbody tr th {\n",
       "        vertical-align: top;\n",
       "    }\n",
       "\n",
       "    .dataframe thead th {\n",
       "        text-align: right;\n",
       "    }\n",
       "</style>\n",
       "<table border=\"1\" class=\"dataframe\">\n",
       "  <thead>\n",
       "    <tr style=\"text-align: right;\">\n",
       "      <th></th>\n",
       "      <th>age</th>\n",
       "      <th>bmi</th>\n",
       "      <th>children</th>\n",
       "      <th>charges</th>\n",
       "    </tr>\n",
       "  </thead>\n",
       "  <tbody>\n",
       "    <tr>\n",
       "      <th>712</th>\n",
       "      <td>43</td>\n",
       "      <td>30.685</td>\n",
       "      <td>2</td>\n",
       "      <td>8310.83915</td>\n",
       "    </tr>\n",
       "  </tbody>\n",
       "</table>\n",
       "</div>"
      ],
      "text/plain": [
       "     age     bmi  children     charges\n",
       "712   43  30.685         2  8310.83915"
      ]
     },
     "execution_count": 190,
     "metadata": {},
     "output_type": "execute_result"
    }
   ],
   "source": [
    "df.loc[[len(df)]]"
   ]
  },
  {
   "cell_type": "markdown",
   "metadata": {},
   "source": [
    "5. Ahora podemos analizar nuestros datos.\n",
    "\n",
    "Las variables de estudio son:\n",
    "\n",
    "<table>\n",
    "    <thead>\n",
    "    <tr bgcolor=\"darkorange\">\n",
    "        <th style=\"text-align:center;\">Nombre de variable</th><th style=\"text-align:center;\">Descripción</th>\n",
    "    </tr>\n",
    "    </thead>\n",
    "    <tbody>\n",
    "    <tr>\n",
    "        <td style=\"text-align:center;\">Age</td><td style=\"text-align:center;\">Edad del asegurado.</td>    \n",
    "    </tr>\n",
    "    <tr>\n",
    "        <td style=\"text-align:center;\">BMI</td><td style=\"text-align:center;\">Índice de masa corporal del asegurado.</td>    \n",
    "    </tr>\n",
    "    <tr>\n",
    "        <td style=\"text-align:center;\">Children</td><td style=\"text-align:center;\">Número de hijos que dependen del asegurado.</td>\n",
    "    </tr>\n",
    "    <tr>\n",
    "        <td style=\"text-align:center;\">Charges</td><td style=\"text-align:center;\">Variable a predecir. Cantidad asegurada en dólares.</td>\n",
    "    </tr>\n",
    "    </tbody>\n",
    "</table>\n",
    "\n",
    "Haras una predición con la columna __age__ como variable predictiva y __charges__ como variable de respuesta. Separa el conjunto de datos _df_ en las variables X,Y. En otras palabras, asigna la columna __age__ a X y asigna la columna __charges__ a Y.\n",
    "\n",
    "Imprime los primeros 5 valores de las variables X,Y. "
   ]
  },
  {
   "cell_type": "code",
   "execution_count": 229,
   "metadata": {},
   "outputs": [],
   "source": [
    "X = df.age\n",
    "Y = df.charges"
   ]
  },
  {
   "cell_type": "code",
   "execution_count": 230,
   "metadata": {},
   "outputs": [
    {
     "data": {
      "text/plain": [
       "1    1725.5523\n",
       "2    4449.4620\n",
       "4    3866.8552\n",
       "5    3756.6216\n",
       "Name: charges, dtype: float64"
      ]
     },
     "execution_count": 230,
     "metadata": {},
     "output_type": "execute_result"
    }
   ],
   "source": [
    "X[:4]\n",
    "Y[:4]"
   ]
  },
  {
   "cell_type": "markdown",
   "metadata": {},
   "source": [
    "6. __¿Cuáles son los primeros 5 valores de X y Y?__"
   ]
  },
  {
   "cell_type": "markdown",
   "metadata": {},
   "source": [
    "7. Tenemos que separar los datos en conjuntos de entrenamiento y prueba.\n",
    "Utiliza el método __train_test_split__ del paquete __sklearn.model_selection__ para separar en __X_train,X_test,Y_train y Y_test__.\n",
    "\n",
    "Utiliza el parámetro _random_state=1_ para garantizar la reproducibilidad y _test_size=0.2_ para definir una separación del 80/20.\n",
    "\n",
    "Imprime los primeros 5 valores de X_test y Y_test.\n"
   ]
  },
  {
   "cell_type": "code",
   "execution_count": 231,
   "metadata": {},
   "outputs": [
    {
     "name": "stdout",
     "output_type": "stream",
     "text": [
      "X_test =  1010    48\n",
      "428     21\n",
      "760     22\n",
      "12      23\n",
      "744     50\n",
      "Name: age, dtype: int64\n",
      "Y_test =  1010    8269.04400\n",
      "428     3167.45585\n",
      "760     3925.75820\n",
      "12      1826.84300\n",
      "744     8827.20990\n",
      "Name: charges, dtype: float64\n"
     ]
    }
   ],
   "source": [
    "from sklearn.model_selection import train_test_split\n",
    "\n",
    "X_train, X_test, Y_train, Y_test = train_test_split(X, Y, test_size=0.2, random_state=1)\n",
    "\n",
    "print('X_test = ', X_test[:5])\n",
    "print('Y_test = ', Y_test[:5])"
   ]
  },
  {
   "cell_type": "markdown",
   "metadata": {},
   "source": [
    "8. __¿Cuál es el índice de los primeros 5 elementos del conjunto de pruebas?__"
   ]
  },
  {
   "cell_type": "code",
   "execution_count": 232,
   "metadata": {},
   "outputs": [
    {
     "name": "stdout",
     "output_type": "stream",
     "text": [
      "[1010, 428, 760, 12, 744]\n"
     ]
    }
   ],
   "source": [
    "print(list(X_test.index)[:5])"
   ]
  },
  {
   "cell_type": "markdown",
   "metadata": {},
   "source": [
    "9. Construye y entrena una regresión lineal usando \"LinearRegresion\" de la librería sklearn.linear_model, utiliza para el entrenamiento las variables X_train y Y_train.\n",
    "Después, calcula la métrica de error $R^2$ (_r2_score_). Este cálculo hazlo con el conjunto de entrenamiento y prueba. Imprime el error obtenido.\n"
   ]
  },
  {
   "cell_type": "code",
   "execution_count": 237,
   "metadata": {},
   "outputs": [],
   "source": [
    "import numpy as np\n",
    "from sklearn.linear_model import LinearRegression\n",
    "from sklearn.metrics import r2_score\n",
    "\n",
    "## entrenamiento\n",
    "X_train = np.array(X_train).reshape(-1, 1)\n",
    "r_train = LinearRegression().fit(X_train, Y_train)\n",
    "\n",
    "## prediciones\n",
    "r_pred = r_train.predict(np.array(X_test).reshape(-1, 1)).reshape(-1, 1)\n",
    "\n",
    "## metrica de error\n",
    "r2_score_age = r2_score(Y_test, r_pred).copy()"
   ]
  },
  {
   "cell_type": "markdown",
   "metadata": {},
   "source": [
    "10. __¿De cuánto es el error calculado con la métrica R2 para el conjunto de entrenamiento y validación?__"
   ]
  },
  {
   "cell_type": "code",
   "execution_count": 238,
   "metadata": {},
   "outputs": [
    {
     "name": "stdout",
     "output_type": "stream",
     "text": [
      "La métrica es de 0.9131175282252894\n"
     ]
    }
   ],
   "source": [
    "print('La métrica es de', r2_score(Y_test, r_pred))"
   ]
  },
  {
   "cell_type": "markdown",
   "metadata": {},
   "source": [
    "11. Ahora intentemos mejorar el modelo. Cambiemos la variable age por BMI. Repite los pasos 3,4 y 5 para con BMI como variable X.\n",
    "Imprime los nuevos resultados.\n"
   ]
  },
  {
   "cell_type": "code",
   "execution_count": 240,
   "metadata": {},
   "outputs": [],
   "source": [
    "X = df.bmi\n",
    "Y = df.charges\n",
    "\n",
    "X_train, X_test, Y_train, Y_test = train_test_split(X, Y, test_size=0.2, random_state=1)\n",
    "\n",
    "## entrenamiento\n",
    "X_train = np.array(X_train).reshape(-1, 1)\n",
    "r_train = LinearRegression().fit(X_train, Y_train)\n",
    "\n",
    "## prediciones\n",
    "r_pred = r_train.predict(np.array(X_test).reshape(-1, 1)).reshape(-1, 1)\n",
    "\n",
    "## metrica de error\n",
    "r2_score_bmi = r2_score(Y_test, r_pred).copy()"
   ]
  },
  {
   "cell_type": "markdown",
   "metadata": {},
   "source": [
    " __¿De cuánto es el error calculado con la métrica R2 para el conjunto de entrenamiento y validación?__"
   ]
  },
  {
   "cell_type": "code",
   "execution_count": 241,
   "metadata": {},
   "outputs": [
    {
     "name": "stdout",
     "output_type": "stream",
     "text": [
      "La métrica es de  -0.01128055600900879\n"
     ]
    }
   ],
   "source": [
    "## resultados\n",
    "print('La métrica es de ', r2_score(Y_test, r_pred))"
   ]
  },
  {
   "cell_type": "markdown",
   "metadata": {},
   "source": [
    "13. __¿Cuál modelo es mejor? Aquel con la edad como variable o el que utiliza BMI como variable.__"
   ]
  },
  {
   "cell_type": "code",
   "execution_count": 245,
   "metadata": {},
   "outputs": [
    {
     "data": {
      "text/plain": [
       "True"
      ]
     },
     "execution_count": 245,
     "metadata": {},
     "output_type": "execute_result"
    }
   ],
   "source": [
    "import math\n",
    "\n",
    "math.sqrt(1 - r2_score_age) <= math.sqrt(1 - r2_score_bmi)"
   ]
  },
  {
   "cell_type": "markdown",
   "metadata": {},
   "source": [
    "El mejor modelo es el primero, lo con la edad."
   ]
  },
  {
   "cell_type": "markdown",
   "metadata": {},
   "source": [
    "14. Según nuestro estudio, __¿qué variable es más relevante para nuestro modelo?__"
   ]
  },
  {
   "cell_type": "code",
   "execution_count": null,
   "metadata": {},
   "outputs": [],
   "source": [
    "Es la edad."
   ]
  },
  {
   "cell_type": "markdown",
   "metadata": {},
   "source": [
    "15. Guarda tu libreta y colócala en una carpeta comprimida con extensión __.zip__. Sube el archivo __.zip__ a la __plataforma de EdX__ y califica los ejercicios de tus demás compañeros."
   ]
  },
  {
   "cell_type": "markdown",
   "metadata": {},
   "source": [
    "<img src=\"Anáhuac_edX.png\" width=\"498\" height=\"150\" align=\"center\"/>"
   ]
  }
 ],
 "metadata": {
  "kernelspec": {
   "display_name": "Python 3",
   "language": "python",
   "name": "python3"
  },
  "language_info": {
   "codemirror_mode": {
    "name": "ipython",
    "version": 3
   },
   "file_extension": ".py",
   "mimetype": "text/x-python",
   "name": "python",
   "nbconvert_exporter": "python",
   "pygments_lexer": "ipython3",
   "version": "3.8.5"
  }
 },
 "nbformat": 4,
 "nbformat_minor": 4
}
