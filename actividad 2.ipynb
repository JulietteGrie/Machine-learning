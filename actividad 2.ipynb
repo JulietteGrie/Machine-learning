{
 "cells": [
  {
   "cell_type": "markdown",
   "metadata": {},
   "source": [
    "<img src=\"Header Curso 2.png\" width=\"921\" height=\"89\" align=\"center\"/>\n",
    "\n",
    "<h1><center>Modelos predictivos con Machine Learning - AnáhuacX</center></h1>\n",
    "<h2><center>Actividad 2: Regresión y clasificación</center></h2>\n"
   ]
  },
  {
   "cell_type": "markdown",
   "metadata": {},
   "source": [
    "En el siguiente ejercicio practicarás algunos de los comandos vistos durante la semana. Después de terminar tu practica responderás un formulario donde autoevaluaras tu desarrollo. <strong>Al finalizar deberás subir tu cuaderno en un archivo .zip</strong>. Es muy importante que subas tu cuaderno de la manera en cómo se indica.\n",
    "\n",
    "En esta actividad responderás la pregunta: \n",
    "¿Como podemos aplicar modelos de regresión y clasificación a problemas reales? Para responderla deberás seguir los pasos a detalle.\n"
   ]
  },
  {
   "cell_type": "markdown",
   "metadata": {},
   "source": [
    "<h3><center>Instrucciones</center></h3>"
   ]
  },
  {
   "cell_type": "markdown",
   "metadata": {},
   "source": [
    "<h4>Aplicando la regresión</h4>"
   ]
  },
  {
   "cell_type": "markdown",
   "metadata": {},
   "source": [
    "1. Ejecuta la siguiente linea de código para cargas las librerías fundamentales que se utilzarán durante el ejercicio y asegurar la reproducibilidad del mismo."
   ]
  },
  {
   "cell_type": "code",
   "execution_count": 1,
   "metadata": {},
   "outputs": [],
   "source": [
    "import pandas as pd\n",
    "import numpy as np\n",
    "from numpy.random import seed\n",
    "\n",
    "seed(1) ## No muevas este parámetro, nos aseguramos de que tus resultados (si haces bien el ejercicio) \n",
    "         ## estén alineados con las opciones de la plataforma de edX."
   ]
  },
  {
   "cell_type": "markdown",
   "metadata": {},
   "source": [
    "2. Descarga y descomprime la base de datos <a href=\"https://courses.edx.org/asset-v1:AnahuacX+UVA-CP1-1x+3T2020+type@asset+block@insurance_clean.zip\">insurance_clean.zip</a> (El archivo extraído debe de colocarse en la misma carpeta que este cuaderno). Abre el archivo con el paquete pandas. Recuerda usar el parametro `index_col=0` para indicar que la columna número cero es el índice. Guardalo como variable `df`.\n"
   ]
  },
  {
   "cell_type": "code",
   "execution_count": 60,
   "metadata": {},
   "outputs": [
    {
     "name": "stdout",
     "output_type": "stream",
     "text": [
      "      age    bmi  children    charges\n",
      "1      18  33.77         1  1725.5523\n",
      "2      28  33.00         3  4449.4620\n",
      "4      32  28.88         0  3866.8552\n",
      "5      31  25.74         0  3756.6216\n",
      "6      46  33.44         1  8240.5896\n",
      "...   ...    ...       ...        ...\n",
      "1326   42  32.87         0  7050.0213\n",
      "1327   51  30.03         1  9377.9047\n",
      "1334   18  31.92         0  2205.9808\n",
      "1335   18  36.85         0  1629.8335\n",
      "1336   21  25.80         0  2007.9450\n",
      "\n",
      "[712 rows x 4 columns]\n"
     ]
    }
   ],
   "source": [
    "df = pd.read_csv('Actividad_2\\insurance_clean.csv', index_col = 0)\n",
    "print(df)"
   ]
  },
  {
   "cell_type": "markdown",
   "metadata": {},
   "source": [
    "3. __¿Cuál es el segundo registro del conjunto de datos?__"
   ]
  },
  {
   "cell_type": "code",
   "execution_count": 61,
   "metadata": {},
   "outputs": [
    {
     "data": {
      "text/html": [
       "<div>\n",
       "<style scoped>\n",
       "    .dataframe tbody tr th:only-of-type {\n",
       "        vertical-align: middle;\n",
       "    }\n",
       "\n",
       "    .dataframe tbody tr th {\n",
       "        vertical-align: top;\n",
       "    }\n",
       "\n",
       "    .dataframe thead th {\n",
       "        text-align: right;\n",
       "    }\n",
       "</style>\n",
       "<table border=\"1\" class=\"dataframe\">\n",
       "  <thead>\n",
       "    <tr style=\"text-align: right;\">\n",
       "      <th></th>\n",
       "      <th>age</th>\n",
       "      <th>bmi</th>\n",
       "      <th>children</th>\n",
       "      <th>charges</th>\n",
       "    </tr>\n",
       "  </thead>\n",
       "  <tbody>\n",
       "    <tr>\n",
       "      <th>2</th>\n",
       "      <td>28</td>\n",
       "      <td>33.0</td>\n",
       "      <td>3</td>\n",
       "      <td>4449.462</td>\n",
       "    </tr>\n",
       "  </tbody>\n",
       "</table>\n",
       "</div>"
      ],
      "text/plain": [
       "   age   bmi  children   charges\n",
       "2   28  33.0         3  4449.462"
      ]
     },
     "execution_count": 61,
     "metadata": {},
     "output_type": "execute_result"
    }
   ],
   "source": [
    "df.loc[[2]]"
   ]
  },
  {
   "cell_type": "markdown",
   "metadata": {},
   "source": [
    "***\n",
    "\n",
    "4. Las variables de estudio son:\n",
    "\n",
    "<table>\n",
    "    <thead>\n",
    "    <tr bgcolor=\"darkorange\">\n",
    "        <th style=\"text-align:center;\">Nombre de variable</th><th style=\"text-align:center;\">Descripción</th>\n",
    "    </tr>\n",
    "    </thead>\n",
    "    <tbody>\n",
    "    <tr>\n",
    "        <td style=\"text-align:center;\">Age</td><td style=\"text-align:center;\">Edad del asegurado.</td>    \n",
    "    </tr>\n",
    "    <tr>\n",
    "        <td style=\"text-align:center;\">BMI</td><td style=\"text-align:center;\">Índice de masa corporal del asegurado.</td>    \n",
    "    </tr>\n",
    "    <tr>\n",
    "        <td style=\"text-align:center;\">Children</td><td style=\"text-align:center;\">Número de hijos que dependen del asegurado.</td>\n",
    "    </tr>\n",
    "    <tr>\n",
    "        <td style=\"text-align:center;\">Charges</td><td style=\"text-align:center;\">Variable a predecir. Cantidad asegurada en dólares.</td>\n",
    "    </tr>\n",
    "    </tbody>\n",
    "</table>\n",
    "\n",
    "Harás una predicción con las columnas `age`, `bmi` y `children` como variable predictiva y `charges` como variable de respuesta. Separa el conjunto de datos `df` en las variables `X`,`Y`. En otras palabras, asigna las columnas `age`, `bmi` y `children` a `X` y asigna la columna `charges` a `Y`. Imprime las primeras 5 filas de `X` y `Y`."
   ]
  },
  {
   "cell_type": "code",
   "execution_count": 72,
   "metadata": {},
   "outputs": [
    {
     "name": "stdout",
     "output_type": "stream",
     "text": [
      "X =  [[18.   33.77  1.  ]\n",
      " [28.   33.    3.  ]\n",
      " [32.   28.88  0.  ]\n",
      " [31.   25.74  0.  ]\n",
      " [46.   33.44  1.  ]]\n",
      "Y =  1    1725.5523\n",
      "2    4449.4620\n",
      "4    3866.8552\n",
      "5    3756.6216\n",
      "6    8240.5896\n",
      "Name: charges, dtype: float64\n"
     ]
    }
   ],
   "source": [
    "X = np.column_stack((df.age, df.bmi, df.children))\n",
    "\n",
    "Y = df.charges\n",
    "\n",
    "print('X = ', X[:5])\n",
    "print('Y = ', Y[:5])"
   ]
  },
  {
   "cell_type": "markdown",
   "metadata": {},
   "source": [
    "5. __¿Cuál es el tercer registro del conjunto de datos X?__"
   ]
  },
  {
   "cell_type": "code",
   "execution_count": 76,
   "metadata": {},
   "outputs": [
    {
     "data": {
      "text/plain": [
       "array([32.  , 28.88,  0.  ])"
      ]
     },
     "execution_count": 76,
     "metadata": {},
     "output_type": "execute_result"
    }
   ],
   "source": [
    "X[2]"
   ]
  },
  {
   "cell_type": "markdown",
   "metadata": {},
   "source": [
    "***\n",
    "\n",
    "6. Tenemos que separar los datos en conjuntos de entrenamiento y prueba.\n",
    "Utiliza el método `train_test_split` del paquete `sklearn.model_selection` para separar en `X_train,X_test,y_train y y_test`.\n",
    "\n",
    "Utiliza el parámetro `random_state=1` para garantizar la reproducibilidad y `test_size=0.2` para definir una separación del 80/20."
   ]
  },
  {
   "cell_type": "code",
   "execution_count": 81,
   "metadata": {},
   "outputs": [],
   "source": [
    "from sklearn.model_selection import train_test_split\n",
    "\n",
    "X_train, X_test, Y_train, Y_test = train_test_split(X, Y, test_size=0.2, random_state=1)"
   ]
  },
  {
   "cell_type": "markdown",
   "metadata": {},
   "source": [
    "***\n",
    "7. Genera una regresión polinomial de grado 1 entrenada con `X_train` y `y_train`. Evalúalo con la métrica $R^2$ en el conjunto de validación `X_test`, `y_test`. Repítelo para regresión polinomial de grado _2_,_3_,_4_ y _5_. Imprime los resultados.\n"
   ]
  },
  {
   "cell_type": "code",
   "execution_count": 122,
   "metadata": {},
   "outputs": [
    {
     "name": "stdout",
     "output_type": "stream",
     "text": [
      "1 \n",
      "entrenamiento 0.9616479150490977 \n",
      "prueba 0.9727954278344557\n",
      "2 \n",
      "entrenamiento 0.9745602615163355 \n",
      "prueba 0.9829135715645188\n",
      "3 \n",
      "entrenamiento 0.9750736251797667 \n",
      "prueba 0.9833984605871496\n",
      "4 \n",
      "entrenamiento 0.9755693904164683 \n",
      "prueba 0.9825130873296308\n",
      "5 \n",
      "entrenamiento 0.9767192621494225 \n",
      "prueba 0.9781930077715479\n"
     ]
    }
   ],
   "source": [
    "from sklearn.linear_model import LinearRegression\n",
    "from sklearn.preprocessing import PolynomialFeatures\n",
    "from sklearn.metrics import r2_score\n",
    "\n",
    "def regression(deg):\n",
    "    # modelo\n",
    "    X_train_poly = PolynomialFeatures(degree = deg).fit_transform(X_train) # entrenamiento\n",
    "    X_test_poly = PolynomialFeatures(degree = deg).fit_transform(X_test) # prueba\n",
    "\n",
    "    # prediciones\n",
    "    Y_train_pred = reg.predict(X_train_poly) # entrenamiento\n",
    "    Y_test_pred = reg.predict(X_test_poly) # prueba\n",
    "    \n",
    "    return r2_score(Y_train, Y_train_pred), r2_score(Y_test, Y_test_pred)\n",
    "\n",
    "for i in range(1, 6):\n",
    "    print(i, '\\nentrenamiento', regression(i)[0], '\\nprueba', regression(i)[1])"
   ]
  },
  {
   "cell_type": "markdown",
   "metadata": {},
   "source": [
    "8. __¿Qué grado de regresión polinomial tiene el mejor valor de $R^2$ en entrenamiento?__"
   ]
  },
  {
   "cell_type": "code",
   "execution_count": 169,
   "metadata": {},
   "outputs": [
    {
     "name": "stdout",
     "output_type": "stream",
     "text": [
      "5\n"
     ]
    }
   ],
   "source": [
    "import math\n",
    "from math import sqrt\n",
    "\n",
    "entrenamiento = [sqrt(1 - regression(i)[0]) for i in range(1, 6)]\n",
    "\n",
    "mejor_entrenamiento = entrenamiento.index(min(entrenamiento)) + 1\n",
    "print(mejor_entrenamiento)"
   ]
  },
  {
   "cell_type": "markdown",
   "metadata": {},
   "source": [
    "9. __¿Qué grado de regresión polinomial tiene el mejor valor de $R^2$ en validación?__"
   ]
  },
  {
   "cell_type": "code",
   "execution_count": 135,
   "metadata": {},
   "outputs": [
    {
     "name": "stdout",
     "output_type": "stream",
     "text": [
      "3\n"
     ]
    }
   ],
   "source": [
    "prueba = [sqrt(1 - regression(i)[1]) for i in range(1, 6)]\n",
    "\n",
    "mejor_prueba = prueba.index(min(prueba)) + 1\n",
    "print(mejor_entrenamiento)"
   ]
  },
  {
   "cell_type": "markdown",
   "metadata": {},
   "source": [
    "***\n",
    "10. Genera una regresión con un árbol de regresión entrenado con `X_train` y `y_train` con una profundidad Máxima de 5. Evalúalo con la métrica $R^2$ en el conjunto de validación `X_test`, `y_test`. Repítelo para profundidades máximas de 6 y 7. Imprime los resultados."
   ]
  },
  {
   "cell_type": "markdown",
   "metadata": {},
   "source": [
    "<h5 style=\"text-align: right; color:#7B7B7B;\">Regresión arbol de regresión. Profundidad maxima=5</h5></right>"
   ]
  },
  {
   "cell_type": "code",
   "execution_count": 170,
   "metadata": {},
   "outputs": [
    {
     "name": "stdout",
     "output_type": "stream",
     "text": [
      "[(0.9535660993098478, 0.9938084278797498), (0.9542487450027479, 0.9930107578320077), (0.9550552298296039, 0.9936621533848103)]\n"
     ]
    }
   ],
   "source": [
    "from sklearn.tree import DecisionTreeRegressor\n",
    "from sklearn.ensemble import AdaBoostRegressor\n",
    "\n",
    "def arbol(prof):\n",
    "    reg = AdaBoostRegressor(DecisionTreeRegressor(max_depth = 5))\n",
    "\n",
    "    # modelo\n",
    "    mod_entr = reg.fit(X_train, Y_train) # entrenamiento\n",
    "    mod_prueb = reg.fit(X_test, Y_test) # prueba\n",
    "    \n",
    "    \n",
    "    # prediciones \n",
    "    entr = mod_entr.predict(X_train)\n",
    "    prueb = mod_prueb.predict(X_test)\n",
    "    \n",
    "    return r2_score(Y_train, entr), r2_score(Y_test, prueb)\n",
    "\n",
    "print([arbol(i) for i in range(5, 8)])"
   ]
  },
  {
   "cell_type": "markdown",
   "metadata": {},
   "source": [
    "11. __¿Qué profundidad máxima de árbol tiene el mejor valor de $R^2$ en entrenamiento?__"
   ]
  },
  {
   "cell_type": "code",
   "execution_count": 175,
   "metadata": {},
   "outputs": [
    {
     "name": "stdout",
     "output_type": "stream",
     "text": [
      "5\n"
     ]
    }
   ],
   "source": [
    "entrenamiento = [sqrt(1 - arbol(i)[0]) for i in range(5, 8)]\n",
    "\n",
    "mejor_entrenamiento = entrenamiento.index(min(entrenamiento)) + 1\n",
    "print(mejor_entrenamiento)"
   ]
  },
  {
   "cell_type": "markdown",
   "metadata": {},
   "source": [
    "12. __¿Qué profundidad máxima de árbol tiene el mejor valor de $R^2$ en validación?__"
   ]
  },
  {
   "cell_type": "code",
   "execution_count": 176,
   "metadata": {},
   "outputs": [
    {
     "name": "stdout",
     "output_type": "stream",
     "text": [
      "2\n"
     ]
    }
   ],
   "source": [
    "prueba = [sqrt(1 - arbol(i)[1]) for i in range(5, 8)]\n",
    "\n",
    "mejor_prueba = prueba.index(min(prueba)) + 1\n",
    "print(mejor_prueba)"
   ]
  },
  {
   "cell_type": "markdown",
   "metadata": {},
   "source": [
    "***\n",
    "13. Genera una regresión basada en las máquinas de soporte vectorial entrenada con `X_train` y `y_train`. Evalúalo con la métrica $R^2$ en el conjunto de validación `X_test`, `y_test`.  Para usar correctamente el SVR tenemos que normalizar los datos. Te ayudaremos en esta parte con el siguiente código <span style=\"color:red;\">(copialo y pegalo en la celda de abajo, puede que te arroje el warning `DataConversionWarning`, lo puedes ignorar)</span>:\n",
    "\n",
    "```python\n",
    "from sklearn.preprocessing import MinMaxScaler\n",
    "X_scaler = MinMaxScaler()\n",
    "y_scaler = MinMaxScaler()\n",
    "X_scaled = X_scaler.fit_transform(X)\n",
    "y_scaled = y_scaler.fit_transform(Y.values.reshape(-1,1))\n",
    "X_train, X_test, y_train, y_test = train_test_split(X_scaled,y_scaled, random_state=1, test_size=0.2)\n",
    "```"
   ]
  },
  {
   "cell_type": "code",
   "execution_count": 178,
   "metadata": {},
   "outputs": [],
   "source": [
    "from sklearn.preprocessing import MinMaxScaler\n",
    "\n",
    "X_scaler = MinMaxScaler()\n",
    "y_scaler = MinMaxScaler()\n",
    "X_scaled = X_scaler.fit_transform(X)\n",
    "y_scaled = y_scaler.fit_transform(Y.values.reshape(-1,1))\n",
    "X_train, X_test, y_train, y_test = train_test_split(X_scaled,y_scaled, random_state=1, test_size=0.2)"
   ]
  },
  {
   "cell_type": "markdown",
   "metadata": {},
   "source": [
    "<h5 style=\"text-align: right; color:#7B7B7B;\">Regresión con maquina de soporte vectorial, kernel rbf</h5></right>"
   ]
  },
  {
   "cell_type": "code",
   "execution_count": 183,
   "metadata": {},
   "outputs": [
    {
     "name": "stdout",
     "output_type": "stream",
     "text": [
      "0.9619745101239975 0.9712684490324782\n"
     ]
    }
   ],
   "source": [
    "from sklearn.svm import SVR\n",
    "\n",
    "svr_rbf = SVR(kernel='rbf', C=100, gamma=0.1, epsilon=.1)\n",
    "\n",
    "reg = svr_rbf.fit(X_train,y_train.reshape(-1))\n",
    "\n",
    "entr = reg.predict(X_train)\n",
    "prueb = reg.predict(X_test)\n",
    "\n",
    "print(r2_score(y_train, entr), r2_score(y_test, prueb))"
   ]
  },
  {
   "cell_type": "markdown",
   "metadata": {},
   "source": [
    "14. __¿En cuál conjunto de datos resultó un mayor valor de $R^2$?__"
   ]
  },
  {
   "cell_type": "markdown",
   "metadata": {},
   "source": [
    "La de prueba"
   ]
  },
  {
   "cell_type": "markdown",
   "metadata": {},
   "source": [
    "***\n",
    "<h4>Aplicando la clasificación</h4>"
   ]
  },
  {
   "cell_type": "markdown",
   "metadata": {},
   "source": [
    "15. Utiliza la instrucción `df[\"over5000\"] = (df[\"charges\"] > 5000).map({False: 0, True: 1})` para agregar una variable que indique si el precio del servicio médico sobrepasa o no los $5000 dólares. Para ello utiliza la variable `df`.\n",
    "\n",
    "Después crea la variable X con las columnas `age`, `bmi`, `children` y la variable `Y` con la columna `over5000`. Así mismo, Imprime los primeros 5 valores de `X` y `Y`."
   ]
  },
  {
   "cell_type": "code",
   "execution_count": 243,
   "metadata": {},
   "outputs": [],
   "source": [
    "Y = df[\"over5000\"] = (df[\"charges\"] > 5000).map({False: 0, True: 1})"
   ]
  },
  {
   "cell_type": "markdown",
   "metadata": {},
   "source": [
    "16. Utiliza el método `train_test_split` del paquete `sklearn.model_selection` para separar en `X_train`,`X_test`,`y_train` y `y_test`.\n",
    "\n",
    "Utiliza el parámetro `random_state=1` para garantizar la reproducibilidad y `test_size=0.2` para definir una separación del 80/20."
   ]
  },
  {
   "cell_type": "code",
   "execution_count": 262,
   "metadata": {},
   "outputs": [],
   "source": [
    "X_train, X_test, Y_train, Y_test = train_test_split(X, Y, test_size=0.2, random_state=1)"
   ]
  },
  {
   "cell_type": "code",
   "execution_count": 266,
   "metadata": {},
   "outputs": [
    {
     "data": {
      "text/plain": [
       "array([[28.   , 33.11 ,  0.   ],\n",
       "       [28.   , 23.845,  2.   ],\n",
       "       [26.   , 29.92 ,  1.   ],\n",
       "       ...,\n",
       "       [51.   , 37.73 ,  1.   ],\n",
       "       [39.   , 29.6  ,  4.   ],\n",
       "       [44.   , 27.4  ,  2.   ]])"
      ]
     },
     "execution_count": 266,
     "metadata": {},
     "output_type": "execute_result"
    }
   ],
   "source": [
    "np.array(X_train).reshape(-1, 3)"
   ]
  },
  {
   "cell_type": "markdown",
   "metadata": {},
   "source": [
    "17. A partir de esos datos, genera un modelo de regresión logística. Utiliza la función `score`. En esta ocasión no se pide un balanceo de datos."
   ]
  },
  {
   "cell_type": "code",
   "execution_count": 289,
   "metadata": {},
   "outputs": [
    {
     "data": {
      "text/plain": [
       "0.9666080843585237"
      ]
     },
     "execution_count": 289,
     "metadata": {},
     "output_type": "execute_result"
    }
   ],
   "source": [
    "from sklearn.linear_model import LogisticRegression\n",
    "\n",
    "mod = LogisticRegression(solver = 'lbfgs').fit(X_train, Y_train)\n",
    "\n",
    "entr = mod.predict(X_train)\n",
    "prueb = mod.predict(X_test)\n",
    "\n",
    "mod.score(X_train,Y_train)"
   ]
  },
  {
   "cell_type": "markdown",
   "metadata": {},
   "source": [
    "18. Crea una matriz de confusión con los datos de entrenamiento y otra con los datos de validación. No es necesario usar `seaborn`."
   ]
  },
  {
   "cell_type": "code",
   "execution_count": 300,
   "metadata": {},
   "outputs": [
    {
     "name": "stdout",
     "output_type": "stream",
     "text": [
      "276 11 8 274\n"
     ]
    }
   ],
   "source": [
    "from sklearn.metrics import confusion_matrix\n",
    "\n",
    "tn, fp, fn, tp = confusion_matrix(Y_train, entr).ravel()\n",
    "print(tn, fp, fn, tp)"
   ]
  },
  {
   "cell_type": "markdown",
   "metadata": {},
   "source": [
    "19. __¿Cuántos registros se clasifican como verdaderos positivos según la matriz de confusión de entrenamiento?__"
   ]
  },
  {
   "cell_type": "code",
   "execution_count": 301,
   "metadata": {},
   "outputs": [
    {
     "name": "stdout",
     "output_type": "stream",
     "text": [
      "69 3 2 69\n"
     ]
    }
   ],
   "source": [
    "tn, fp, fn, tp = confusion_matrix(Y_test, prueb).ravel()\n",
    "print(tn, fp, fn, tp)"
   ]
  },
  {
   "cell_type": "markdown",
   "metadata": {},
   "source": [
    "Cuántos entr = 1 y Y_train = 1"
   ]
  },
  {
   "cell_type": "markdown",
   "metadata": {},
   "source": [
    "20. __¿Cuántos registros se clasifican como verdaderos negativos según la matriz de confusión de validación?__"
   ]
  },
  {
   "cell_type": "markdown",
   "metadata": {},
   "source": [
    "Cuántos prueb = 0 y Y_test = 0"
   ]
  },
  {
   "cell_type": "markdown",
   "metadata": {},
   "source": [
    "21. Guarda tu libreta y colócala en una carpeta comprimida con extensión __.zip__. Sube el archivo __.zip__ a la __plataforma de EdX__ y califica los ejercicios de tus demás compañeros."
   ]
  }
 ],
 "metadata": {
  "kernelspec": {
   "display_name": "Python 3",
   "language": "python",
   "name": "python3"
  },
  "language_info": {
   "codemirror_mode": {
    "name": "ipython",
    "version": 3
   },
   "file_extension": ".py",
   "mimetype": "text/x-python",
   "name": "python",
   "nbconvert_exporter": "python",
   "pygments_lexer": "ipython3",
   "version": "3.8.5"
  }
 },
 "nbformat": 4,
 "nbformat_minor": 4
}
