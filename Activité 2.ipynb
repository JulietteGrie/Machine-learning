{
 "cells": [
  {
   "cell_type": "markdown",
   "metadata": {},
   "source": [
    "<img src=\"Header Curso 2.png\" width=\"921\" height=\"89\" align=\"center\"/>\n",
    "\n",
    "<h1><center>Modelos predictivos con Machine Learning - AnáhuacX</center></h1>\n",
    "<h2><center>Actividad 2: Regresión y clasificación</center></h2>\n"
   ]
  },
  {
   "cell_type": "markdown",
   "metadata": {},
   "source": [
    "En el siguiente ejercicio practicarás algunos de los comandos vistos durante la semana. Después de terminar tu practica responderás un formulario donde autoevaluaras tu desarrollo. <strong>Al finalizar deberás subir tu cuaderno en un archivo .zip</strong>. Es muy importante que subas tu cuaderno de la manera en cómo se indica.\n",
    "\n",
    "En esta actividad responderás la pregunta: \n",
    "¿Como podemos aplicar modelos de regresión y clasificación a problemas reales? Para responderla deberás seguir los pasos a detalle.\n"
   ]
  },
  {
   "cell_type": "markdown",
   "metadata": {},
   "source": [
    "<h3><center>Instrucciones</center></h3>"
   ]
  },
  {
   "cell_type": "markdown",
   "metadata": {},
   "source": [
    "<h4>Aplicando la regresión</h4>"
   ]
  },
  {
   "cell_type": "markdown",
   "metadata": {},
   "source": [
    "1. Ejecuta la siguiente linea de código para cargas las librerías fundamentales que se utilzarán durante el ejercicio y asegurar la reproducibilidad del mismo."
   ]
  },
  {
   "cell_type": "code",
   "execution_count": 1,
   "metadata": {},
   "outputs": [],
   "source": [
    "import pandas as pd\n",
    "import numpy as np\n",
    "from numpy.random import seed\n",
    "seed(1) ## No muevas este parámetro, nos aseguramos de que tus resultados (si haces bien el ejercicio) \n",
    "         ## estén alineados con las opciones de la plataforma de edX."
   ]
  },
  {
   "cell_type": "markdown",
   "metadata": {},
   "source": [
    "2. Descarga y descomprime la base de datos <a href=\"https://courses.edx.org/asset-v1:AnahuacX+UVA-CP1-1x+3T2020+type@asset+block@insurance_clean.zip\">insurance_clean.zip</a> (El archivo extraído debe de colocarse en la misma carpeta que este cuaderno). Abre el archivo con el paquete pandas. Recuerda usar el parametro `index_col=0` para indicar que la columna número cero es el índice. Guardalo como variable `df`.\n"
   ]
  },
  {
   "cell_type": "code",
   "execution_count": 12,
   "metadata": {},
   "outputs": [
    {
     "ename": "SyntaxError",
     "evalue": "(unicode error) 'unicodeescape' codec can't decode bytes in position 2-3: truncated \\UXXXXXXXX escape (<ipython-input-12-fa5870dfe29a>, line 1)",
     "output_type": "error",
     "traceback": [
      "\u001b[1;36m  File \u001b[1;32m\"<ipython-input-12-fa5870dfe29a>\"\u001b[1;36m, line \u001b[1;32m1\u001b[0m\n\u001b[1;33m    df1 = pd.read_csv('C:\\Users\\Juliette\\Documents\\EDX modèles prédictifs Python\\Semana 2/insurance_clean(1).csv')\u001b[0m\n\u001b[1;37m                      ^\u001b[0m\n\u001b[1;31mSyntaxError\u001b[0m\u001b[1;31m:\u001b[0m (unicode error) 'unicodeescape' codec can't decode bytes in position 2-3: truncated \\UXXXXXXXX escape\n"
     ]
    }
   ],
   "source": [
    "df1 = pd.read_csv('C:\\Users\\Juliette\\Documents\\EDX modèles prédictifs Python\\Semana 2/insurance_clean(1).csv')\n",
    "df1.head()\n"
   ]
  },
  {
   "cell_type": "markdown",
   "metadata": {},
   "source": [
    "3. __¿Cuál es el segundo registro del conjunto de datos?__"
   ]
  },
  {
   "cell_type": "markdown",
   "metadata": {},
   "source": [
    "***\n",
    "\n",
    "4. Las variables de estudio son:\n",
    "\n",
    "<table>\n",
    "    <thead>\n",
    "    <tr bgcolor=\"darkorange\">\n",
    "        <th style=\"text-align:center;\">Nombre de variable</th><th style=\"text-align:center;\">Descripción</th>\n",
    "    </tr>\n",
    "    </thead>\n",
    "    <tbody>\n",
    "    <tr>\n",
    "        <td style=\"text-align:center;\">Age</td><td style=\"text-align:center;\">Edad del asegurado.</td>    \n",
    "    </tr>\n",
    "    <tr>\n",
    "        <td style=\"text-align:center;\">BMI</td><td style=\"text-align:center;\">Índice de masa corporal del asegurado.</td>    \n",
    "    </tr>\n",
    "    <tr>\n",
    "        <td style=\"text-align:center;\">Children</td><td style=\"text-align:center;\">Número de hijos que dependen del asegurado.</td>\n",
    "    </tr>\n",
    "    <tr>\n",
    "        <td style=\"text-align:center;\">Charges</td><td style=\"text-align:center;\">Variable a predecir. Cantidad asegurada en dólares.</td>\n",
    "    </tr>\n",
    "    </tbody>\n",
    "</table>\n",
    "\n",
    "Harás una predicción con las columnas `age`, `bmi` y `children` como variable predictiva y `charges` como variable de respuesta. Separa el conjunto de datos `df` en las variables `X`,`Y`. En otras palabras, asigna las columnas `age`, `bmi` y `children` a `X` y asigna la columna `charges` a `Y`. Imprime las primeras 5 filas de `X` y `Y`."
   ]
  },
  {
   "cell_type": "code",
   "execution_count": null,
   "metadata": {},
   "outputs": [],
   "source": []
  },
  {
   "cell_type": "markdown",
   "metadata": {},
   "source": [
    "5. __¿Cuál es el tercer registro del conjunto de datos X?__"
   ]
  },
  {
   "cell_type": "markdown",
   "metadata": {},
   "source": [
    "***\n",
    "\n",
    "6. Tenemos que separar los datos en conjuntos de entrenamiento y prueba.\n",
    "Utiliza el método `train_test_split` del paquete `sklearn.model_selection` para separar en `X_train,X_test,y_train y y_test`.\n",
    "\n",
    "Utiliza el parámetro `random_state=1` para garantizar la reproducibilidad y `test_size=0.2` para definir una separación del 80/20."
   ]
  },
  {
   "cell_type": "code",
   "execution_count": null,
   "metadata": {},
   "outputs": [],
   "source": []
  },
  {
   "cell_type": "markdown",
   "metadata": {},
   "source": [
    "***\n",
    "7. Genera una regresión polinomial de grado 1 entrenada con `X_train` y `y_train`. Evalúalo con la métrica $R^2$ en el conjunto de validación `X_test`, `y_test`. Repítelo para regresión polinomial de grado _2_,_3_,_4_ y _5_. Imprime los resultados.\n"
   ]
  },
  {
   "cell_type": "markdown",
   "metadata": {},
   "source": [
    "<h5 style=\"text-align: right; color:#7B7B7B;\">Regresión polinomial de grado 1</h5></right>"
   ]
  },
  {
   "cell_type": "code",
   "execution_count": null,
   "metadata": {},
   "outputs": [],
   "source": []
  },
  {
   "cell_type": "markdown",
   "metadata": {},
   "source": [
    "<h5 style=\"text-align: right; color:#7B7B7B;\">Regresión polinomial de grado 2</h5></right>"
   ]
  },
  {
   "cell_type": "code",
   "execution_count": null,
   "metadata": {},
   "outputs": [],
   "source": []
  },
  {
   "cell_type": "markdown",
   "metadata": {},
   "source": [
    "<h5 style=\"text-align: right; color:#7B7B7B;\">Regresión polinomial de grado 3</h5></right>"
   ]
  },
  {
   "cell_type": "code",
   "execution_count": null,
   "metadata": {},
   "outputs": [],
   "source": []
  },
  {
   "cell_type": "markdown",
   "metadata": {},
   "source": [
    "<h5 style=\"text-align: right; color:#7B7B7B;\">Regresión polinomial de grado 4</h5></right>"
   ]
  },
  {
   "cell_type": "code",
   "execution_count": null,
   "metadata": {},
   "outputs": [],
   "source": []
  },
  {
   "cell_type": "markdown",
   "metadata": {},
   "source": [
    "<h5 style=\"text-align: right; color:#7B7B7B;\">Regresión polinomial de grado 5</h5></right>"
   ]
  },
  {
   "cell_type": "code",
   "execution_count": null,
   "metadata": {},
   "outputs": [],
   "source": []
  },
  {
   "cell_type": "markdown",
   "metadata": {},
   "source": [
    "8. __¿Qué grado de regresión polinomial tiene el mejor valor de $R^2$ en entrenamiento?__"
   ]
  },
  {
   "cell_type": "markdown",
   "metadata": {},
   "source": [
    "9. __¿Qué grado de regresión polinomial tiene el mejor valor de $R^2$ en validación?__"
   ]
  },
  {
   "cell_type": "markdown",
   "metadata": {},
   "source": [
    "***\n",
    "10. Genera una regresión con un árbol de regresión entrenado con `X_train` y `y_train` con una profundidad Máxima de 5. Evalúalo con la métrica $R^2$ en el conjunto de validación `X_test`, `y_test`. Repítelo para profundidades máximas de 6 y 7. Imprime los resultados."
   ]
  },
  {
   "cell_type": "markdown",
   "metadata": {},
   "source": [
    "<h5 style=\"text-align: right; color:#7B7B7B;\">Regresión arbol de regresión. Profundidad maxima=5</h5></right>"
   ]
  },
  {
   "cell_type": "code",
   "execution_count": null,
   "metadata": {},
   "outputs": [],
   "source": []
  },
  {
   "cell_type": "markdown",
   "metadata": {},
   "source": [
    "<h5 style=\"text-align: right; color:#7B7B7B;\">Regresión arbol de regresión. Profundidad maxima=6</h5></right>"
   ]
  },
  {
   "cell_type": "code",
   "execution_count": null,
   "metadata": {},
   "outputs": [],
   "source": []
  },
  {
   "cell_type": "markdown",
   "metadata": {},
   "source": [
    "<h5 style=\"text-align: right; color:#7B7B7B;\">Regresión arbol de regresión. Profundidad maxima=7</h5></right>"
   ]
  },
  {
   "cell_type": "code",
   "execution_count": null,
   "metadata": {},
   "outputs": [],
   "source": []
  },
  {
   "cell_type": "markdown",
   "metadata": {},
   "source": [
    "11. __¿Qué profundidad máxima de árbol tiene el mejor valor de $R^2$ en entrenamiento?__"
   ]
  },
  {
   "cell_type": "markdown",
   "metadata": {},
   "source": [
    "12. __¿Qué profundidad máxima de árbol tiene el mejor valor de $R^2$ en validación?__"
   ]
  },
  {
   "cell_type": "markdown",
   "metadata": {},
   "source": [
    "***\n",
    "13. Genera una regresión basada en las máquinas de soporte vectorial entrenada con `X_train` y `y_train`. Evalúalo con la métrica $R^2$ en el conjunto de validación `X_test`, `y_test`.  Para usar correctamente el SVR tenemos que normalizar los datos. Te ayudaremos en esta parte con el siguiente código <span style=\"color:red;\">(copialo y pegalo en la celda de abajo, puede que te arroje el warning `DataConversionWarning`, lo puedes ignorar)</span>:\n",
    "\n",
    "```python\n",
    "from sklearn.preprocessing import MinMaxScaler\n",
    "X_scaler = MinMaxScaler()\n",
    "y_scaler = MinMaxScaler()\n",
    "X_scaled = X_scaler.fit_transform(X)\n",
    "y_scaled = y_scaler.fit_transform(Y.values.reshape(-1,1))\n",
    "X_train, X_test, y_train, y_test = train_test_split(X_scaled,y_scaled, random_state=1, test_size=0.2)\n",
    "```"
   ]
  },
  {
   "cell_type": "code",
   "execution_count": null,
   "metadata": {},
   "outputs": [],
   "source": []
  },
  {
   "cell_type": "markdown",
   "metadata": {},
   "source": [
    "<h5 style=\"text-align: right; color:#7B7B7B;\">Regresión con maquina de soporte vectorial, kernel rbf</h5></right>"
   ]
  },
  {
   "cell_type": "code",
   "execution_count": null,
   "metadata": {},
   "outputs": [],
   "source": []
  },
  {
   "cell_type": "markdown",
   "metadata": {},
   "source": [
    "14. __¿En cuál conjunto de datos resultó un mayor valor de $R^2$?__"
   ]
  },
  {
   "cell_type": "markdown",
   "metadata": {},
   "source": [
    "***\n",
    "<h4>Aplicando la clasificación</h4>"
   ]
  },
  {
   "cell_type": "markdown",
   "metadata": {},
   "source": [
    "15. Utiliza la instrucción `df[\"over5000\"] = (df[\"charges\"] > 5000).map({False: 0, True: 1})` para agregar una variable que indique si el precio del servicio médico sobrepasa o no los $5000 dólares. Para ello utiliza la variable `df`.\n",
    "\n",
    "Después crea la variable X con las columnas `age`, `bmi`, `children` y la variable `Y` con la columna `over5000`. Así mismo, Imprime los primeros 5 valores de `X` y `Y`."
   ]
  },
  {
   "cell_type": "code",
   "execution_count": null,
   "metadata": {},
   "outputs": [],
   "source": []
  },
  {
   "cell_type": "markdown",
   "metadata": {},
   "source": [
    "16. Utiliza el método `train_test_split` del paquete `sklearn.model_selection` para separar en `X_train`,`X_test`,`y_train` y `y_test`.\n",
    "\n",
    "Utiliza el parámetro `random_state=1` para garantizar la reproducibilidad y `test_size=0.2` para definir una separación del 80/20."
   ]
  },
  {
   "cell_type": "code",
   "execution_count": null,
   "metadata": {},
   "outputs": [],
   "source": []
  },
  {
   "cell_type": "markdown",
   "metadata": {},
   "source": [
    "17. A partir de esos datos, genera un modelo de regresión logística. Utiliza la función `score`. En esta ocasión no se pide un balanceo de datos."
   ]
  },
  {
   "cell_type": "code",
   "execution_count": null,
   "metadata": {},
   "outputs": [],
   "source": []
  },
  {
   "cell_type": "markdown",
   "metadata": {},
   "source": [
    "18. Crea una matriz de confusión con los datos de entrenamiento y otra con los datos de validación. No es necesario usar `seaborn`."
   ]
  },
  {
   "cell_type": "code",
   "execution_count": null,
   "metadata": {},
   "outputs": [],
   "source": []
  },
  {
   "cell_type": "code",
   "execution_count": null,
   "metadata": {},
   "outputs": [],
   "source": []
  },
  {
   "cell_type": "markdown",
   "metadata": {},
   "source": [
    "19. __¿Cuántos registros se clasifican como verdaderos positivos según la matriz de confusión de entrenamiento?__"
   ]
  },
  {
   "cell_type": "markdown",
   "metadata": {},
   "source": [
    "20. __¿Cuántos registros se clasifican como verdaderos negativos según la matriz de confusión de validación?__"
   ]
  },
  {
   "cell_type": "markdown",
   "metadata": {},
   "source": [
    "21. Guarda tu libreta y colócala en una carpeta comprimida con extensión __.zip__. Sube el archivo __.zip__ a la __plataforma de EdX__ y califica los ejercicios de tus demás compañeros."
   ]
  },
  {
   "cell_type": "markdown",
   "metadata": {},
   "source": [
    "<img src=\"Anáhuac_edX.png\" width=\"498\" height=\"150\" align=\"center\"/>"
   ]
  }
 ],
 "metadata": {
  "kernelspec": {
   "display_name": "Python 3",
   "language": "python",
   "name": "python3"
  },
  "language_info": {
   "codemirror_mode": {
    "name": "ipython",
    "version": 3
   },
   "file_extension": ".py",
   "mimetype": "text/x-python",
   "name": "python",
   "nbconvert_exporter": "python",
   "pygments_lexer": "ipython3",
   "version": "3.8.5"
  }
 },
 "nbformat": 4,
 "nbformat_minor": 4
}
